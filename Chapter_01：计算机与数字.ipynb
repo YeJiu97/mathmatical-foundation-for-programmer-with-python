{
  "nbformat": 4,
  "nbformat_minor": 0,
  "metadata": {
    "colab": {
      "provenance": [],
      "collapsed_sections": [
        "fb6oba-pn4cZ",
        "CcAprJvHH_Bb",
        "zk64MlFDG3l4"
      ],
      "toc_visible": true
    },
    "kernelspec": {
      "name": "python3",
      "display_name": "Python 3"
    },
    "language_info": {
      "name": "python"
    }
  },
  "cells": [
    {
      "cell_type": "markdown",
      "source": [
        "# 进制计数法"
      ],
      "metadata": {
        "id": "fb6oba-pn4cZ"
      }
    },
    {
      "cell_type": "markdown",
      "source": [
        "**什么是进制计数法**\n",
        "\n",
        "> 进制计数法是人为定义的带进位的计数方法，也可以称为位置计数法。在这种计数法中，每一位置上的数运算时都是逢X进一位。例如，十进制是逢十进一，十六进制是逢十六进一，二进制就是逢二进一，以此类推。现在常用的是十进制，通常用10个阿拉伯数字0-9进行计数。\n"
      ],
      "metadata": {
        "id": "rsOGOMgQqZFr"
      }
    },
    {
      "cell_type": "markdown",
      "source": [
        "**以十进制计数法为例。**\n",
        "\n",
        "十进制计数法是一种使用数字0-9十个基本数，用十进为一组和位值来记录数的方案。它是一种常见的计数方法，被广泛使用。\n",
        "\n",
        "具体来说，十进制计数法中，每一位上的数都是0-9之间的数字，从右往左数，从低位到高位，位数逐渐增多。\n",
        "\n",
        "举个例子，我们来看一个十进制数的表示：12345。在这个数中，个位是5，十位是4，百位是3，千位是2，万位是1。\n",
        "\n",
        "从低位到高位的每一位代表的数值分别是：5、40、300、2000、10000。可以看到，每一位上的数都是基于它所在的位置来决定的。例如，个位上的5代表的就是5，十位上的4代表的就是40，百位上的3代表的就是300。\n",
        "\n",
        "这就是十进制计数法的基本原理和特点。"
      ],
      "metadata": {
        "id": "CoC1ecHLreav"
      }
    },
    {
      "cell_type": "markdown",
      "source": [
        "**如果用公式来进行表示。**\n",
        "\n",
        "首先，我们将123456分解为个位、十位、百位、千位、万位和十万位。\n",
        "\n",
        "个位：6\n",
        "\n",
        "十位：5\n",
        "\n",
        "百位：4\n",
        "\n",
        "千位：3\n",
        "\n",
        "万位：2\n",
        "\n",
        "十万位：1\n",
        "\n",
        "接下来，我们使用公式来计算每个位上的数值。\n",
        "\n",
        "个位：6 × 10^0 = 6\n",
        "\n",
        "十位：5 × 10^1 = 50\n",
        "\n",
        "百位：4 × 10^2 = 400\n",
        "\n",
        "千位：3 × 10^3 = 3000\n",
        "\n",
        "万位：2 × 10^4 = 20000\n",
        "\n",
        "十万位：1 × 10^5 = 100000\n",
        "\n",
        "将所有位的数值相加，得到123456的总值。\n",
        "\n",
        "所以，123456 = 6 + 50 + 400 + 3000 + 20000 + 100000"
      ],
      "metadata": {
        "id": "LwOJFJi2rmmf"
      }
    },
    {
      "cell_type": "markdown",
      "source": [
        "接着我们使用Python语言来实现一下m的n次方，这里需要使用 ** 符号。"
      ],
      "metadata": {
        "id": "fH3ZZpKwsUk2"
      }
    },
    {
      "cell_type": "code",
      "source": [
        "# m ** n : 为m的n次方\n",
        "10 ** 2  # 10的二次方"
      ],
      "metadata": {
        "colab": {
          "base_uri": "https://localhost:8080/"
        },
        "id": "zfvkeokRr-qO",
        "outputId": "f51d4349-b069-4f5e-c690-409906c49937"
      },
      "execution_count": 1,
      "outputs": [
        {
          "output_type": "execute_result",
          "data": {
            "text/plain": [
              "100"
            ]
          },
          "metadata": {},
          "execution_count": 1
        }
      ]
    },
    {
      "cell_type": "code",
      "source": [
        "9 ** 2 # 9的2次方"
      ],
      "metadata": {
        "colab": {
          "base_uri": "https://localhost:8080/"
        },
        "id": "fdtXb-88slod",
        "outputId": "c04d41ce-ecad-406c-80c9-225d459e8852"
      },
      "execution_count": 2,
      "outputs": [
        {
          "output_type": "execute_result",
          "data": {
            "text/plain": [
              "81"
            ]
          },
          "metadata": {},
          "execution_count": 2
        }
      ]
    },
    {
      "cell_type": "markdown",
      "source": [
        "接着我们需要来考虑一个数字的0次方的问题。\n",
        "\n",
        "10的2次方是100，10的1次方是10，可以发现如果延续这个规则，那么当次方的数字每减去1的时候，计算出来的数值将会是原先的1/10，那么只要延续这个思路，就可以发现 $10^0$ 的结果就是1了。\n",
        "\n",
        "或者我们可以这样想：\n",
        "\n",
        "次方是一个数学操作，表示将一个数乘以自己指定的次数。例如，5的3次方是5 × 5 × 5。\n",
        "\n",
        "当我们说一个数字的0次方时，实际上是在说这个数字乘以自己0次。\n",
        "例如，5的0次方是5 × 1，因为任何数乘以1都是它自己。\n",
        "\n",
        "所以，一个数字的0次方是1。这是因为任何数乘以0次都是1。"
      ],
      "metadata": {
        "id": "eotwgG4HssTS"
      }
    },
    {
      "cell_type": "code",
      "source": [
        "i = [5, 4, 3, 2, 1, 0]\n",
        "\n",
        "for num in i:\n",
        "    print(10 ** num)"
      ],
      "metadata": {
        "colab": {
          "base_uri": "https://localhost:8080/"
        },
        "id": "vWvMMAVttbPh",
        "outputId": "781e7d75-2a4e-46b2-8e8b-8f9644190584"
      },
      "execution_count": 3,
      "outputs": [
        {
          "output_type": "stream",
          "name": "stdout",
          "text": [
            "100000\n",
            "10000\n",
            "1000\n",
            "100\n",
            "10\n",
            "1\n"
          ]
        }
      ]
    },
    {
      "cell_type": "markdown",
      "source": [
        "**二进制计数法**\n",
        "\n",
        "二进制计数法是一种计算技术中广泛采用的数制，它只用两个数码0和1来表示数。在计数时，满二进一，借位规则是借一当二。二进制数也是采用位置计数法，其位权是以2为底的幂。这种计数法在计算机设计中有重要的应用。相比十进制计数法，二进制计数法具有运算规则简单、易于进行转换、抗干扰能力强等优点。\n",
        "\n",
        "从计算机原理的角度来看，计算机采用二进制而不是三进制或十进制的原因主要有以下几点：\n",
        "\n",
        "1. 技术实现简单：计算机是由逻辑电路组成的，逻辑电路通常只有两个状态，即开和关，这两种状态正好可以用二进制的0和1表示。使用二进制计数法可以简化计算机的硬件设计和制造过程。\n",
        "\n",
        "2. 抗干扰能力强、可靠性高：二进制中只使用0和1两个数字，传输和处理时不易出错，因而可以保障计算机具有很高的可靠性。相比之下，使用更多的数字进行计数会增加出错的可能性。\n",
        "\n",
        "3. 运算规则简单：与十进制数相比，二进制数的运算规则要简单得多。二进制数的加法、减法、乘法和除法运算都可以通过逻辑电路来实现，这不仅可以使运算器的结构得到简化，而且有利于提高运算速度。\n",
        "\n",
        "4. 适合逻辑运算：逻辑代数是逻辑运算的理论依据，二进制只有两个数码，正好与逻辑代数中的真和假相吻合。在计算机中，逻辑运算是非常重要的，因此二进制计数法非常适合在计算机中使用。\n",
        "\n",
        "5. 易于进行转换：二进制数与十进制数之间的转换相当容易。人们使用计算机时可以仍然使用自己所习惯的十进制数，而计算机将其自动转换成二进制数进行处理。这使得人们在使用计算机时更加方便。\n",
        "\n",
        "综上所述，从计算机原理的角度来看，二进制计数法具有技术实现简单、抗干扰能力强、可靠性高、运算规则简单、适合逻辑运算以及易于进行转换等优点，因此被广泛采用在计算机中。"
      ],
      "metadata": {
        "id": "sWi_HUuvtcyO"
      }
    },
    {
      "cell_type": "markdown",
      "source": [
        "**二进制表示负数**\n",
        "\n",
        "二进制中表示负数使用的是二进制补码的形式。\n",
        "\n",
        "具体来说，对于一个n位的二进制数，最高位（第n位）是符号位，0表示正数，1表示负数。其余的n-1位表示数值部分。\n",
        "\n",
        "例如，假设一个3位的二进制数，第一位是符号位，第二位和第三位表示数值。\n",
        "\n",
        "如果这个数是正数，那么它的二进制表示就是其数值的二进制形式。\n",
        "\n",
        "如果这个数是负数，那么它的二进制表示就是其数值的二进制形式的反码（每位取反）加1。\n",
        "\n",
        "例如，对于数字-3（3的二进制表示为0011）：\n",
        "\n",
        "1. 首先，找到3的二进制形式，是0011。\n",
        "2. 然后，对0011取反得到1100。\n",
        "3. 最后，在1100上加1得到1101，所以-3的二进制表示是1101。\n",
        "\n",
        "这样，我们就可以用二进制来表示负数了。\n",
        "\n",
        "3的二进制表示是0011而不是直接11的原因是因为在计算机中负数使用二进制补码的形式表示。\n",
        "\n",
        "首先，我们需要理解什么是补码。补码是计算机中用来表示负数的一种方式，它是通过将负数的绝对值转换为二进制形式，然后取反（每位取反），最后加1得到的。\n",
        "\n",
        "对于数字3，它的绝对值是3，二进制形式是0011。取反后得到1100，然后再加1得到1101。因此，3的二进制补码表示是1101。\n",
        "\n",
        "这样做的好处是可以很方便地在加法运算中处理正负数的运算。因为正数的补码和原码相同，而负数的补码是将其原码按位取反（除符号位外）后加1得到。通过这种方式，我们可以在二进制运算中直接将正数和负数相加，而不需要先进行符号位的处理。"
      ],
      "metadata": {
        "id": "0teM8QoKKN4w"
      }
    },
    {
      "cell_type": "markdown",
      "source": [
        "**二进制和十进制的相互转换**\n",
        "\n",
        "二进制数字： 1011\n",
        "\n",
        "转换过程：\n",
        "\n",
        "1. 首先，将二进制数字从右往左数，从低位到高位。\n",
        "2. 从最右侧的位开始，每个位的数值为2的相应次方。\n",
        "3. 从右往左数，第一个位是2的0次方，第二个位是2的1次方，以此类推。\n",
        "4. 将每个位的数值乘以相应的2的次方，并将结果相加。\n",
        "\n",
        "计算过程：\n",
        "\n",
        "1. 第一个位是1，2的0次方是1，所以第一个位的值为1 * 1 = 1。\n",
        "2. 第二个位是0，2的1次方是2，所以第二个位的值为0 * 2 = 0。\n",
        "3. 第三个位是1，2的2次方是4，所以第三个位的值为1 * 4 = 4。\n",
        "4. 第四个位是1，2的3次方是8，所以第四个位的值为1 * 8 = 8。\n",
        "5. 将这四个值相加得到最终结果：1 + 0 + 4 + 8 = 13。\n",
        "\n",
        "所以，二进制数字1011转换为十进制数字是13。"
      ],
      "metadata": {
        "id": "78AWbdxUurTE"
      }
    },
    {
      "cell_type": "code",
      "source": [
        "# Python语言可以使用bin()函数来实现\n",
        "\n",
        "binary_number = '0b1011'\n",
        "\n",
        "print(int(0b1011))"
      ],
      "metadata": {
        "colab": {
          "base_uri": "https://localhost:8080/"
        },
        "id": "iJ3bp37ovJtV",
        "outputId": "f01fffa0-ea2f-4704-c9cb-7ff5b96dd809"
      },
      "execution_count": 4,
      "outputs": [
        {
          "output_type": "stream",
          "name": "stdout",
          "text": [
            "11\n"
          ]
        }
      ]
    },
    {
      "cell_type": "code",
      "source": [
        "# 或者也可以将十进制转换为二进制\n",
        "\n",
        "int_number = 123456\n",
        "\n",
        "print(bin(123456))"
      ],
      "metadata": {
        "colab": {
          "base_uri": "https://localhost:8080/"
        },
        "id": "DEEuN7VEwRYI",
        "outputId": "3b0d9c70-bbc6-4728-ea88-3ab3316cab26"
      },
      "execution_count": 5,
      "outputs": [
        {
          "output_type": "stream",
          "name": "stdout",
          "text": [
            "0b11110001001000000\n"
          ]
        }
      ]
    },
    {
      "cell_type": "markdown",
      "source": [
        "这里开头的0b是Python语言的一种规定，用来表示是二进制数字，b是binary的缩写。使用0b前缀的目的是为了提高代码的可读性和明确性。它告诉读者这个数字是二进制数，而不是其他进制数的表示。这对于那些不熟悉二进制表示的人来说尤其有用，因为它们可以更容易地理解数字的实际值。\n",
        "\n",
        "需要注意的是，在Python中，也可以直接使用二进制表示法，而不需要使用0b前缀。例如，二进制数1011可以直接表示为十进制数11。但是，使用0b前缀仍然是一种常见的做法，因为它提供了一种明确和一致的方式来表示二进制数。"
      ],
      "metadata": {
        "id": "jHwf_j_Kwc2b"
      }
    },
    {
      "cell_type": "code",
      "source": [
        "binary_num = '1011'\n",
        "decimal_num = int(binary_num, 2)\n",
        "print(decimal_num)"
      ],
      "metadata": {
        "colab": {
          "base_uri": "https://localhost:8080/"
        },
        "id": "wdlPMkatwm-p",
        "outputId": "8b74349b-6704-4416-87ad-a4f910b43c48"
      },
      "execution_count": 6,
      "outputs": [
        {
          "output_type": "stream",
          "name": "stdout",
          "text": [
            "11\n"
          ]
        }
      ]
    },
    {
      "cell_type": "code",
      "source": [
        "# int(num, x)：x就是几进制进行转化为十进制\n",
        "int('16', 16)"
      ],
      "metadata": {
        "colab": {
          "base_uri": "https://localhost:8080/"
        },
        "id": "25w15279B6u5",
        "outputId": "0306857e-e7cc-4b54-9ce6-6dbf859650bb"
      },
      "execution_count": 7,
      "outputs": [
        {
          "output_type": "execute_result",
          "data": {
            "text/plain": [
              "22"
            ]
          },
          "metadata": {},
          "execution_count": 7
        }
      ]
    },
    {
      "cell_type": "markdown",
      "source": [
        "接着是十六进制："
      ],
      "metadata": {
        "id": "f7KdhVG0ETqT"
      }
    },
    {
      "cell_type": "code",
      "source": [
        "hex(0b101010)"
      ],
      "metadata": {
        "colab": {
          "base_uri": "https://localhost:8080/",
          "height": 35
        },
        "id": "MBYofiIrHauM",
        "outputId": "83d5c077-74ee-4c68-c041-e080b21ecbcc"
      },
      "execution_count": 8,
      "outputs": [
        {
          "output_type": "execute_result",
          "data": {
            "text/plain": [
              "'0x2a'"
            ],
            "application/vnd.google.colaboratory.intrinsic+json": {
              "type": "string"
            }
          },
          "metadata": {},
          "execution_count": 8
        }
      ]
    },
    {
      "cell_type": "code",
      "source": [
        "hex(28)"
      ],
      "metadata": {
        "colab": {
          "base_uri": "https://localhost:8080/",
          "height": 35
        },
        "id": "RqCxn30yH9B0",
        "outputId": "bc6a697c-98bf-497d-c3f5-ca97fa0b8e3e"
      },
      "execution_count": 9,
      "outputs": [
        {
          "output_type": "execute_result",
          "data": {
            "text/plain": [
              "'0x1c'"
            ],
            "application/vnd.google.colaboratory.intrinsic+json": {
              "type": "string"
            }
          },
          "metadata": {},
          "execution_count": 9
        }
      ]
    },
    {
      "cell_type": "markdown",
      "source": [
        "# 进制转换"
      ],
      "metadata": {
        "id": "CcAprJvHH_Bb"
      }
    },
    {
      "cell_type": "markdown",
      "source": [
        "**十进制转二进制**"
      ],
      "metadata": {
        "id": "bpNKDVsrJsty"
      }
    },
    {
      "cell_type": "markdown",
      "source": [
        "十进制转换为二进制，计算可以参考这个例子：\n",
        "\n",
        "![image.png](data:image/png;base64,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)\n",
        "\n",
        "简单来讲：除以2，求余数，倒序表示。"
      ],
      "metadata": {
        "id": "1t-FBX5SIIrZ"
      }
    },
    {
      "cell_type": "code",
      "source": [
        "# 将这个数字转换为二进制\n",
        "original_value = 123"
      ],
      "metadata": {
        "id": "fd1E0LFNKhVz"
      },
      "execution_count": 10,
      "outputs": []
    },
    {
      "cell_type": "code",
      "source": [
        "# 转换方法一，bin()函数\n",
        "bin(original_value)"
      ],
      "metadata": {
        "colab": {
          "base_uri": "https://localhost:8080/",
          "height": 35
        },
        "id": "q8Q85wo-Kncy",
        "outputId": "389306c6-c106-454c-d9ea-ef53f13f43ea"
      },
      "execution_count": 11,
      "outputs": [
        {
          "output_type": "execute_result",
          "data": {
            "text/plain": [
              "'0b1111011'"
            ],
            "application/vnd.google.colaboratory.intrinsic+json": {
              "type": "string"
            }
          },
          "metadata": {},
          "execution_count": 11
        }
      ]
    },
    {
      "cell_type": "code",
      "source": [
        "# 转换方法二：dec2bin()函数\n",
        "\n",
        "def dec2bin(decimal):\n",
        "    binary = ''\n",
        "    while decimal > 0:\n",
        "        binary = str(decimal % 2) + binary\n",
        "        decimal //= 2\n",
        "    return binary\n",
        "\n",
        "dec2bin(original_value)"
      ],
      "metadata": {
        "colab": {
          "base_uri": "https://localhost:8080/",
          "height": 35
        },
        "id": "wU4UZqK1KsvG",
        "outputId": "6749c117-a798-4c25-a9b8-7f1f4c62a693"
      },
      "execution_count": 12,
      "outputs": [
        {
          "output_type": "execute_result",
          "data": {
            "text/plain": [
              "'1111011'"
            ],
            "application/vnd.google.colaboratory.intrinsic+json": {
              "type": "string"
            }
          },
          "metadata": {},
          "execution_count": 12
        }
      ]
    },
    {
      "cell_type": "markdown",
      "source": [
        "这个函数接受一个十进制数作为参数，并使用循环将其转换为二进制数。在每次循环中，我们使用取模运算符（%）来获取当前数的二进制位，并将其添加到二进制字符串的左侧。然后，我们将十进制数除以2，以便在下一次循环中处理下一个二进制位。最后，我们返回二进制字符串作为结果。"
      ],
      "metadata": {
        "id": "FhxBlmqbLYxi"
      }
    },
    {
      "cell_type": "code",
      "source": [
        "def dec2bin(decimal):\n",
        "    binary = []\n",
        "    while decimal > 0:\n",
        "        binary.append(str(decimal % 2))\n",
        "        decimal //= 2\n",
        "    binary.reverse()\n",
        "    return binary\n",
        "\n",
        "print(dec2bin(original_value))"
      ],
      "metadata": {
        "colab": {
          "base_uri": "https://localhost:8080/"
        },
        "id": "fbo3LHldLZ4z",
        "outputId": "a60f072c-c56b-405f-d184-f31dae5f0c55"
      },
      "execution_count": 13,
      "outputs": [
        {
          "output_type": "stream",
          "name": "stdout",
          "text": [
            "['1', '1', '1', '1', '0', '1', '1']\n"
          ]
        }
      ]
    },
    {
      "cell_type": "markdown",
      "source": [
        "reverse() 方法会直接修改列表 binary 并返回 None，而不是返回修改后的列表。"
      ],
      "metadata": {
        "id": "1Hgj4nAV75_c"
      }
    },
    {
      "cell_type": "markdown",
      "source": [
        "**十进制转十六进制**"
      ],
      "metadata": {
        "id": "Gl9sg6tz63qx"
      }
    },
    {
      "cell_type": "markdown",
      "source": [
        "十六进制（简写为hex或下标16）是一种基数为16的计数系统，是一种逢16进1的进位制。通常用数字0、1、2、3、4、5、6、7、8、9和字母A、B、C、D、E、F（a、b、c、d、e、f）表示，其中A~F表示10~15。\n",
        "\n",
        "每个十六进制数位对应4个二进制位，可以在计算机编程和电子工程中广泛应用。以下是一些十六进制数的例子：\n",
        "\n",
        "1. 0x1F：表示十进制数31，其中0x表示这是一个十六进制数。\n",
        "2. 0xFF：表示十进制数255，由两个十六进制数位组成，每个数位表示8个二进制位。\n",
        "3. 0x3A：表示十进制数58，其中3表示3个十六进制数，A表示10个十六进制数。"
      ],
      "metadata": {
        "id": "boFWRWwa67CB"
      }
    },
    {
      "cell_type": "code",
      "source": [
        "hex(31)"
      ],
      "metadata": {
        "colab": {
          "base_uri": "https://localhost:8080/",
          "height": 35
        },
        "id": "2c0LWSGh7Tdv",
        "outputId": "a73b2820-d129-445e-80b1-677bb82091be"
      },
      "execution_count": 14,
      "outputs": [
        {
          "output_type": "execute_result",
          "data": {
            "text/plain": [
              "'0x1f'"
            ],
            "application/vnd.google.colaboratory.intrinsic+json": {
              "type": "string"
            }
          },
          "metadata": {},
          "execution_count": 14
        }
      ]
    },
    {
      "cell_type": "code",
      "source": [
        "hex(0b1101)"
      ],
      "metadata": {
        "colab": {
          "base_uri": "https://localhost:8080/",
          "height": 35
        },
        "id": "9dzRYCvK7V7r",
        "outputId": "8e51deb0-e78b-452b-e71f-f3522dacdd16"
      },
      "execution_count": 15,
      "outputs": [
        {
          "output_type": "execute_result",
          "data": {
            "text/plain": [
              "'0xd'"
            ],
            "application/vnd.google.colaboratory.intrinsic+json": {
              "type": "string"
            }
          },
          "metadata": {},
          "execution_count": 15
        }
      ]
    },
    {
      "cell_type": "code",
      "source": [
        "# 创建一个 dec2hex() 函数\n",
        "\n",
        "def dec2hex(decimal):\n",
        "    hex_digits = '0123456789ABCDEF'\n",
        "    hex_str = ''\n",
        "    while decimal > 0:\n",
        "        hex_str = hex_digits[decimal % 16] + hex_str\n",
        "        decimal //= 16\n",
        "    return hex_str\n",
        "\n",
        "dec2hex(255)"
      ],
      "metadata": {
        "colab": {
          "base_uri": "https://localhost:8080/",
          "height": 35
        },
        "id": "MSf2Jkuc8P-h",
        "outputId": "ae24d794-a47b-4fb2-c041-8f1e9d4d8760"
      },
      "execution_count": 16,
      "outputs": [
        {
          "output_type": "execute_result",
          "data": {
            "text/plain": [
              "'FF'"
            ],
            "application/vnd.google.colaboratory.intrinsic+json": {
              "type": "string"
            }
          },
          "metadata": {},
          "execution_count": 16
        }
      ]
    },
    {
      "cell_type": "code",
      "source": [
        "def dec2hex(decimal):\n",
        "    hex_digits = '0123456789ABCDEF'\n",
        "    hex_list = []\n",
        "    while decimal > 0:\n",
        "        hex_digit = hex_digits[decimal % 16]\n",
        "        hex_list.append(hex_digit)\n",
        "        decimal //= 16\n",
        "    return hex_list[::-1]\n",
        "\n",
        "dec2hex(255)"
      ],
      "metadata": {
        "colab": {
          "base_uri": "https://localhost:8080/"
        },
        "id": "qrSUyGC88rdb",
        "outputId": "75cabf66-cb6d-4527-f42a-48d7411c861c"
      },
      "execution_count": 17,
      "outputs": [
        {
          "output_type": "execute_result",
          "data": {
            "text/plain": [
              "['F', 'F']"
            ]
          },
          "metadata": {},
          "execution_count": 17
        }
      ]
    },
    {
      "cell_type": "markdown",
      "source": [
        "# 计算机世界中的数字"
      ],
      "metadata": {
        "id": "zk64MlFDG3l4"
      }
    },
    {
      "cell_type": "markdown",
      "source": [
        "**比特与字节**"
      ],
      "metadata": {
        "id": "3jdxDWx0RGqb"
      }
    },
    {
      "cell_type": "markdown",
      "source": [
        "比特（BIT，Binary digit）是计算机专业术语，是信息量的单位，是由英文BIT音译而来。二进制数的一位所包含的信息就是一比特，如二进制数0100就是4比特。比特也可以作为信息熵的单位，根据信息熵与概率的关系，在等概率的情况下，一个二进制位（比特）的信息熵就是1bit，一个十进制位的信息熵相当于约等于3.322bit。二进制中有两个数字，即0和1，所以二进制中的每一个位就是一个比特。\n",
        "\n",
        "字节（Byte）是计算机信息技术用于计量存储容量的一种计量单位，也表示一些计算机编程语言中的数据类型和语言字符。一个字节存储8位无符号数，储存的数值范围为0-255。如同字元一样，字节型态的变数只需要用一个位元组（8位元）的内存空间储存。"
      ],
      "metadata": {
        "id": "kKxQ9t7yG52i"
      }
    },
    {
      "cell_type": "markdown",
      "source": [
        "一个字节的二进制数字是00000001，因为一个字节由8个比特位组成，而每个比特位只能是0或1，所以一个字节的二进制数字是8个1，即00000001。\n",
        "\n",
        "为什么这个数字的大小是一个字节？因为一个字节是计算机存储容量的基本单位之一，它通常用于表示一个字符或一个数字。在计算机中，一个字节由8个比特位组成，可以表示256个不同的值，因此它能够存储一个字符或一个数字。此外，一个字节还可以用于表示一些特定的控制字符，如换行符、回车符等。因此，一个字节的大小被广泛使用在计算机科学和网络通信中。"
      ],
      "metadata": {
        "id": "bEUwZGXvPi-j"
      }
    },
    {
      "cell_type": "markdown",
      "source": [
        "**溢出（Overflow）**"
      ],
      "metadata": {
        "id": "JZrA3IjQPkBL"
      }
    },
    {
      "cell_type": "markdown",
      "source": [
        "溢出是指计算机在执行计算时，运算结果超过了计算机所能允许的范围。以一个字节的二进制数字为例，如果进行加法运算后，得到的二进制数的位数超过了8位，那么就发生了溢出。\n",
        "\n",
        "在计算机中，一个字节由8个比特位组成，可以表示256个不同的值。如果两个数相加的结果超过了256，那么就会发生溢出。溢出的结果可能会产生错误，因为超出的部分会被丢弃，导致结果不准确。\n",
        "\n",
        "为了判断是否发生了溢出，可以通过异或运算来判断。具体来说，将最高位和次高位产生的进位位进行异或运算，如果结果为1，则表示有溢出；如果结果为0，则表示无溢出。\n",
        "\n",
        "需要注意的是，溢出的概念不仅适用于字节的二进制数字，也适用于其他数据类型的运算。例如，在长整型或双精度浮点型的运算中，如果运算结果超出了该类型的表示范围，也会发生溢出。因此，在进行计算机编程时，应该注意数据的类型和范围，以避免溢出的发生。"
      ],
      "metadata": {
        "id": "IJhC6cciRvCe"
      }
    },
    {
      "cell_type": "markdown",
      "source": [
        "假设我们有两个8位的二进制数 A = 11001100 和 B = 00110100，我们要计算 A + B 的结果。\n",
        "\n",
        "首先，我们进行正常的二进制加法运算：\n",
        "\n",
        "```\n",
        "A:  11001100  \n",
        "B:  00110100  \n",
        "-----------------  \n",
        "    11111000\n",
        "```\n",
        "在这个例子中，最高位（符号位）和次高位都没有进位，所以它们的进位位都是0。因此，异或运算的结果也是0，表示没有发生溢出。\n",
        "\n",
        "但是，如果我们有两个更大的二进制数 A = 11111111 和 B = 00000001，再进行同样的计算：\n",
        "\n",
        "```\n",
        "A:  11111111  \n",
        "B:  00000001  \n",
        "-----------------  \n",
        "    1 00000000\n",
        "```\n",
        "\n",
        "这里，最高位和次高位都产生了进位，分别是1和0。我们进行异或运算：\n",
        "\n",
        "```\n",
        "markdown\n",
        "最高位进位: 1  \n",
        "次高位进位: 0  \n",
        "-----------------  \n",
        "异或结果:   1\n",
        "```\n",
        "异或运算的结果是1，表示发生了溢出。实际上，这个结果也超过了8位的表示范围（255），所以确实发生了溢出。"
      ],
      "metadata": {
        "id": "EffLBzo8SPoL"
      }
    },
    {
      "cell_type": "markdown",
      "source": [
        "关于亦或运算的知识点补充。\n",
        "\n",
        "异或（xor）是一个数学运算符，英文为exclusive OR，缩写成xor。它应用于逻辑运算，其运算法则为：a⊕b = (¬a ∧ b) ∨ (a ∧¬b)。如果a、b两个值不相同，则异或结果为1。如果a、b两个值相同，异或结果为0。异或也叫半加运算，其运算法则相当于不带进位的二进制加法：二进制下用1表示真，0表示假，则异或的运算法则为：0⊕0=0，1⊕0=1，0⊕1=1，1⊕1=0（同为0，异为1），这些法则与加法是相同的，只是不带进位。\n",
        "\n",
        "好的，以下是一个使用Markdown语法创建的异或运算表格，其中使用1和0进行运算：\n",
        "\n",
        "```\n",
        "a\tb\ta ⊕ b\n",
        "0\t0\t0\n",
        "0\t1\t1\n",
        "1\t0\t1\n",
        "1\t1\t0\n",
        "```\n",
        "这个表格展示了异或运算的基本规则，即当两个输入值不同时，结果为1；当两个输入值相同时，结果为0。"
      ],
      "metadata": {
        "id": "sKWThOihSnoD"
      }
    },
    {
      "cell_type": "markdown",
      "source": [
        "**0值和填充**"
      ],
      "metadata": {
        "id": "Cfn37KkFUpoi"
      }
    },
    {
      "cell_type": "markdown",
      "source": [
        "\n",
        "计数从最右边开始的原因和空位需要用0进行填充的原因可以归结为计算机科学和计算机编程中的一些基本原则和约定。\n",
        "\n",
        "首先，计算机中的数字表示通常采用二进制形式，即只有0和1两种数字。由于计算机只认识0和1，所以所有的数字都必须以二进制形式表示。在二进制中，最右边的位表示最低位，也就是个位。因此，计数从最右边开始是因为这是计算机中表示数字的最低位。\n",
        "\n",
        "其次，空位需要用0进行填充的原因是为了保持数据的完整性和一致性。在计算机中，数据通常以二进制形式存储和传输。如果数据中存在空位，那么这些空位可能会被解释为0，导致数据的值发生变化。因此，为了确保数据的准确性和一致性，通常会使用0来填充空位。\n",
        "\n",
        "此外，使用0进行填充还有助于计算机更高效地处理数据。在计算机中，数据的存储和处理都是以二进制形式进行的。如果数据中存在空位，那么计算机就需要额外的步骤来处理这些空位，这可能会增加计算机的工作负担。而使用0进行填充可以避免这种情况的发生，因为0是二进制中最简单的数字，计算机可以轻松地处理它。\n",
        "\n",
        "总之，计数从最右边开始和空位需要用0进行填充是计算机科学和计算机编程中的基本原则和约定，它们有助于确保数据的准确性和一致性，并提高计算机处理数据的效率。"
      ],
      "metadata": {
        "id": "r7_WOuruTeeH"
      }
    },
    {
      "cell_type": "markdown",
      "source": [
        "**可处理数字数量计算**"
      ],
      "metadata": {
        "id": "2avp2msyUCQf"
      }
    },
    {
      "cell_type": "markdown",
      "source": [
        "一个字节由8个比特组成，可以表示2^8=256个不同的值，也就是从0到255。因此，一个字节可以处理的数字数量是256个。\n",
        "\n",
        "如果要计算n个字节能够处理的数字数量，可以使用以下公式：\n",
        "\n",
        "数字数量 = 2^(8*n)\n",
        "\n",
        "这个公式的原理是，每个字节可以表示256个不同的值，所以n个字节可以表示256^n个不同的值。但是由于每个字节可以表示的数字范围是从0到255，所以n个字节能够处理的数字数量实际上是256^n个。\n",
        "\n",
        "例如，如果要计算2个字节能够处理的数字数量，可以使用公式2^(8*2)=2^16=65536，因此2个字节可以处理65536个不同的数字。"
      ],
      "metadata": {
        "id": "1gcS2vnrUnRb"
      }
    },
    {
      "cell_type": "markdown",
      "source": [
        "# 负数的处理方式"
      ],
      "metadata": {
        "id": "cJM3-AooZc1e"
      }
    },
    {
      "cell_type": "markdown",
      "source": [
        "**补码**"
      ],
      "metadata": {
        "id": "0BI-bDvFjqCG"
      }
    },
    {
      "cell_type": "markdown",
      "source": [
        "二进制中处理负数的方法通常使用补码表示法。补码表示法是一种将负数转换为正数的编码方式，通过将负数的绝对值转换为正数，然后取反得到补码。\n",
        "\n",
        "具体来说，对于一个n位的二进制数，如果它的最高位是1，那么它表示一个负数。这个负数的绝对值就是将这个二进制数去掉最高位后的数值，然后将这个数值取反，最后加1，得到的就是这个负数的补码。\n",
        "\n",
        "例如，对于一个3位的二进制数101，它的最高位是1，表示它是一个负数。去掉最高位后，剩下010。将010取反得到101，然后加1得到110，这就是这个负数的补码。\n",
        "\n",
        "在计算机中，当需要对一个负数进行运算时，通常先将它的补码取出来，然后按照正数的运算规则进行计算。最后得到的运算结果也是补码形式，如果需要得到原数的绝对值，只需将结果取反再加1即可。"
      ],
      "metadata": {
        "id": "SPQgiZSpZiSy"
      }
    },
    {
      "cell_type": "markdown",
      "source": [
        "**怎么判定**"
      ],
      "metadata": {
        "id": "job7JZiPjoUx"
      }
    },
    {
      "cell_type": "markdown",
      "source": [
        "在二进制中，一个数字是否用来标识负数，主要取决于它的最高位（符号位）。在大多数计算机系统中，如果一个二进制数的最高位是1，那么这个数就被解释为负数；如果最高位是0，那么这个数就被解释为正数或零。\n",
        "\n",
        "例如，对于一个3位的二进制数101，它的最高位是1，因此它被解释为一个负数。而对于一个3位的二进制数010，它的最高位是0，因此它被解释为一个正数或零。\n",
        "\n",
        "需要注意的是，不同的计算机系统和编程语言可能对二进制数的解释方式有所不同。因此，在处理二进制数时，需要了解所使用的系统和语言的规则和约定。"
      ],
      "metadata": {
        "id": "hLpu1Hd8nra-"
      }
    },
    {
      "cell_type": "markdown",
      "source": [
        "需要注意：通常来讲，一个字节有8个比特，也就是8个0和1的位置，而最左边的一个位置就是用来表示正负的，不是用来做别的。"
      ],
      "metadata": {
        "id": "EmNIktefoIxl"
      }
    },
    {
      "cell_type": "markdown",
      "source": [
        "**一个字节的范围**"
      ],
      "metadata": {
        "id": "8-EXGcioobY2"
      }
    },
    {
      "cell_type": "markdown",
      "source": [
        "一个字节可以表示的数字范围在正127到-128之间，这是因为一个字节由8个比特位组成，每个比特位可以表示0或1。在二进制补码表示法中，正数的补码与其原码相同，而负数的补码是其原码按位取反并加1。\n",
        "\n",
        "对于正数，其最高位（符号位）为0，其余位表示数值。因此，正数的范围是0到2^7-1，即0到127。\n",
        "\n",
        "对于负数，其最高位（符号位）为1。负数的补码是其原码按位取反并加1。由于负数的原码是正数减去2^7（即128），因此负数的范围是-2^7到-1，即-128到-1。\n",
        "\n",
        "综上所述，一个字节可以表示的数字范围在正127到-128之间。"
      ],
      "metadata": {
        "id": "vWu8qJ7jplry"
      }
    },
    {
      "cell_type": "markdown",
      "source": [
        "以下是一个字节、两个字节、四个字节和八个字节的位数、数值个数和数值范围的表格，使用Markdown语法表示：\n",
        "\n",
        "```\n",
        "字节数\t位数\t数值个数\t数值范围\n",
        "1个字节\t8位\t2^8 = 256\t-128 到 127（有符号）<br>0 到 255（无符号）\n",
        "2个字节\t16位\t2^16 = 65,536\t-32,768 到 32,767（有符号）<br>0 到 65,535（无符号）\n",
        "4个字节\t32位\t2^32 = 4,294,967,296\t-2,147,483,648 到 2,147,483,647（有符号）<br>0 到 4,294,967,295（无符号）\n",
        "8个字节\t64位\t2^64 = 18,446,744,073,709,551,616\t-9,223,372,036,854,775,808 到 9,223,372,036,854,775,807（有符号）<br>0 到 18,446,744,073,709,551,615（无符号）\n",
        "```\n",
        "\n",
        "请注意，这些数值范围是基于二进制补码表示法的。对于有符号数，最高位（符号位）为1表示负数，为0表示正数或零。对于无符号数，所有位都表示数值。"
      ],
      "metadata": {
        "id": "G7YgP6cRrxLB"
      }
    },
    {
      "cell_type": "markdown",
      "source": [
        "# 小数"
      ],
      "metadata": {
        "id": "Pe6SFEUVuXOX"
      }
    },
    {
      "cell_type": "markdown",
      "source": [
        "**计算机怎么表示小数**"
      ],
      "metadata": {
        "id": "Cmn_DKVMu4R0"
      }
    },
    {
      "cell_type": "markdown",
      "source": [
        "计算机表示小数有两种方法：定点表示法和浮点表示法。\n",
        "\n",
        "在定点表示法中，所有数的小数点的位置人为约定固定不变。这样，小数点的位置就不必用记号“．”表示出来了。一般地说，小数点可约定固定在任何数位之后，但常用下列两种形式：\n",
        "\n",
        "定点纯小数：约定小数点位置固定在符号之后。\n",
        "浮点数：由两部分组成，即尾数部分与阶数部分。\n",
        "浮点数在机器中的表示方法如下：其中，尾数部分表示该浮点数的全部有效数字，它是一个有符号位的纯小数；阶数部分指明了浮点数实际小数点的位置与尾数（定点纯小数）约定的小数点位置之间的位移量P。该位移量P（阶数）是一个有符号位的纯小数。当阶数为+P时，则表示小数点向右移动P位；当阶数为－P时，则表示小数点和左移动P位。\n",
        "\n",
        "计算机的定点表示法和浮点表示法各有优缺点。定点表示法的优点是简单、直观、易于理解，且便于计算机内部运算和存储。然而，它也存在一些缺点，例如无法表示无限循环小数、精度有限、易受舍入误差影响等。浮点表示法可以表示任意精度的十进制小数，且可以避免定点表示法的精度限制和舍入误差问题。但是，浮点表示法需要更多的存储空间和计算时间，且在计算机内部运算时需要更多的处理步骤。\n",
        "\n",
        "在实际应用中，根据具体需求和场景选择合适的表示方法。例如，在科学计算、工程计算等领域中，需要高精度、高效率的运算，通常采用浮点表示法；而在一些简单的应用场景中，如整数运算、简单的数学计算等，可以采用定点表示法。"
      ],
      "metadata": {
        "id": "xIAeT7fiuZbD"
      }
    }
  ]
}